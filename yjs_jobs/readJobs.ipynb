{
 "cells": [
  {
   "cell_type": "code",
   "execution_count": 1,
   "metadata": {},
   "outputs": [],
   "source": [
    "import json"
   ]
  },
  {
   "cell_type": "code",
   "execution_count": 5,
   "metadata": {},
   "outputs": [
    {
     "data": {
      "text/plain": [
       "437"
      ]
     },
     "execution_count": 5,
     "metadata": {},
     "output_type": "execute_result"
    }
   ],
   "source": [
    "with open('jobs.json', 'r') as jf:\n",
    "    jobs = json.load(jf)\n",
    "len(jobs)"
   ]
  },
  {
   "cell_type": "code",
   "execution_count": 3,
   "metadata": {},
   "outputs": [
    {
     "data": {
      "text/plain": [
       "[{'name': '网站和爬虫整包开发（有PHP后端、Python爬虫和网站前端的团队）',\n",
       "  'address': '苏州 全区 7203',\n",
       "  'detail': '一、需求描述：\\r\\n\\r\\n类别：数据统计分发类网站+手机端开发 \\r\\n进度：已经有产品文档、原型图、UI，需要技术开发。 \\r\\n功能：数据统计分发产品，实现少量数据抓取、批量数据监控、分发功能。涉及数据统计（可视化）、数据列表、监控提醒、用户登录注册、用户权限管理、个人中心以及管理员后台（少量数据处理）系统，需要技术人员将这些模块进行实现。 \\r\\n技术：PHP语言开发网站后台，Python爬虫，JavaScript，MySql\\r\\n\\r\\n二、人才要求：\\r\\n\\r\\n丰富的Python数据抓取和PHP开发经验，有数据处理和可视化产品开发经验者优先。\\r\\n\\r\\n三、参考产品：\\r\\n\\r\\n年管家（www.vvipr.com/z',\n",
       "  'employer': 'jvarm',\n",
       "  'daily_salary': '1500',\n",
       "  'days': '20',\n",
       "  'total_salary': '30000',\n",
       "  'appoint': '投递职位',\n",
       "  'employee_num': '33'},\n",
       " {'name': '母婴平台数据采集',\n",
       "  'address': '北京 海淀 五道口',\n",
       "  'detail': '实现某母婴平台的数据采集，需要工程师拥有多年python爬虫经验，熟悉常见的反爬操作，熟练掌握scrapy-redis分布式框架。\\r\\n共计3天左右。\\r\\n合作方式：远程+定期见面',\n",
       "  'employer': '么哗pin',\n",
       "  'daily_salary': '1000',\n",
       "  'days': '3',\n",
       "  'total_salary': '3000',\n",
       "  'appoint': '投递职位',\n",
       "  'employee_num': '16'},\n",
       " {'name': '负责电商子项目的数据处理和后端接口的开发',\n",
       "  'address': '北京 海淀 领秀新硅谷',\n",
       "  'detail': '项目：负责电商子项目的数据处理和后端接口的开发\\r\\n\\r\\n技能需求：\\r\\n\\r\\n熟练掌握Python（Django优先）、shell\\r\\n能够支持Docker部署\\r\\n熟悉MongoDB、Redis等Nosql数据库，拥有较强的数据库设计能力。\\r\\n\\r\\n\\r\\n合作方式：\\r\\n\\r\\n远程 + 定期见面',\n",
       "  'employer': '美丽',\n",
       "  'daily_salary': '1000',\n",
       "  'days': '3',\n",
       "  'total_salary': '3000',\n",
       "  'appoint': '投递职位',\n",
       "  'employee_num': '19'},\n",
       " {'name': '平台类PHP前端开发',\n",
       "  'address': '上海 闵行 （远程）或交通大学',\n",
       "  'detail': '一、需求描述：\\r\\n类别：评价类网站开发\\r\\n进度：已经有产品文档，完成用户系统的编程\\r\\n功能：评价类网站，实现用户系统，点评系统（类似点评商家），品类点评系统，搜索系统。\\r\\n\\r\\n二、人才要求：\\r\\n1. 后端工程师\\r\\n有PHP开发经验，熟悉Laravel框架者优先。\\r\\n会使用Python (如Flask)、Java等语言编写后端亦可。\\r\\n熟悉OAuth2协议。\\r\\n\\r\\n2. 前端工程师\\r\\n熟悉CSS3语法，使用过Sass等CSS扩展语言。\\r\\n与后端工程师配合良好，有经验者优先。\\r\\n\\r\\n三、参考产品：\\r\\nhttp://www.ratemyprofessors.com/mobile/school_sea',\n",
       "  'employer': 'Adrian',\n",
       "  'daily_salary': '500',\n",
       "  'days': '14',\n",
       "  'total_salary': '7000',\n",
       "  'appoint': '投递职位',\n",
       "  'employee_num': '92'},\n",
       " {'name': 'HBase数据库及Hive框架搭建',\n",
       "  'address': '北京 海淀 五道口',\n",
       "  'detail': '需求描述：搭建一套Hive+Hbase的海量数据存储框架，能够实现上亿条记录的存储和调取。\\r\\n人才要求：需要对Hbase和Hive有比较深刻的理解，最好能够熟练使用python\\r\\n合作方式：因为项目细节比较多，最好能够驻场搭建。',\n",
       "  'employer': '费斌杰',\n",
       "  'daily_salary': '700',\n",
       "  'days': '3',\n",
       "  'total_salary': '2100',\n",
       "  'appoint': '投递职位',\n",
       "  'employee_num': '13'},\n",
       " {'name': '汽车后市场ERP开发',\n",
       "  'address': '广州 全区 不限',\n",
       "  'detail': '一、需求描述：\\r\\n1.开发语言要求。net,python,node.js,vue,js。要求前后端分离；\\r\\n2.数据库sqlserver；\\r\\n3.有成熟的方案最好；\\r\\n4.模块：客户资源，门店，采购部，财务部，权限控制等。\\r\\n\\r\\n二、合作方式：\\r\\n项目制，广州远程+见面。\\r\\n三。要求广州地区',\n",
       "  'employer': '猿急送代发',\n",
       "  'daily_salary': '2000',\n",
       "  'days': '90',\n",
       "  'total_salary': '180000',\n",
       "  'appoint': '投递职位',\n",
       "  'employee_num': '56'},\n",
       " {'name': '天猫商品详情页图片爬虫',\n",
       "  'address': '上海 全区 不限',\n",
       "  'detail': '一、需求描述：\\r\\n1、爬取天猫商品详情页图片，爬取图片或者图片地址都可以，\\r\\n2、仅限于使用java、python语言，\\r\\n3、需要提供源码；\\r\\n4、报价300\\r\\n\\r\\n二、合作方式：\\r\\n项目制，远程。',\n",
       "  'employer': 'Snowman',\n",
       "  'daily_salary': '500',\n",
       "  'days': '1',\n",
       "  'total_salary': '500',\n",
       "  'appoint': '投递职位',\n",
       "  'employee_num': '84'},\n",
       " {'name': '新闻资讯网站python爬虫工程师',\n",
       "  'address': '北京 海淀 四季青',\n",
       "  'detail': '需求描述：根据新闻资讯网站（包括财新网、新浪网、网易新闻）的采集要求，编写python爬虫脚本，并能稳定运行。\\r\\n技能需求：掌握扎实的python爬虫技术（包括requests、beautifulsoup、selenium）\\r\\n合作方式：可以远程开发，最好周末能来驻场。（可长期合作）',\n",
       "  'employer': '吴闻青',\n",
       "  'daily_salary': '800',\n",
       "  'days': '2',\n",
       "  'total_salary': '1600',\n",
       "  'appoint': '投递职位',\n",
       "  'employee_num': '72'},\n",
       " {'name': 'office、pdf文件解析',\n",
       "  'address': '北京 海淀 五道口，具体见面地址详谈',\n",
       "  'detail': '一、需求描述：\\r\\n希望能够通过python或者java，对office文件进行解析，包括ppt、word、pdf这四种文件类型。解析出来的内容希望尽可能多的保留原有的数据格式。能够在前端对文件内容进行显示。\\r\\n希望工作态度认真负责，待遇可以从优。\\r\\n\\r\\n二、合作方式：\\r\\n项目制，远程开发+见面对需求。',\n",
       "  'employer': '疯狂的烤翅',\n",
       "  'daily_salary': '800',\n",
       "  'days': '5',\n",
       "  'total_salary': '4000',\n",
       "  'appoint': '投递职位',\n",
       "  'employee_num': '53'},\n",
       " {'name': '直播平台数据采集',\n",
       "  'address': '北京 全区 远程',\n",
       "  'detail': '一、需求描述：\\r\\n需要能够对直播平台进行全量数据采集，属性Python爬虫框架，采集虎牙直播平台的直播信息，非视频，纯文字。\\r\\n\\r\\n二、合作方式：\\r\\n项目制，远程开发。',\n",
       "  'employer': '费斌杰',\n",
       "  'daily_salary': '800',\n",
       "  'days': '1',\n",
       "  'total_salary': '800',\n",
       "  'appoint': '投递职位',\n",
       "  'employee_num': '51'},\n",
       " {'name': '大众点评网络爬虫开发',\n",
       "  'address': '北京 全区 远程',\n",
       "  'detail': '一、需求描述：\\r\\n需要使用python开发，我们提供完整的需求文档，需要工程师按照文档进行爬虫开发~\\r\\n\\r\\n二、合作方式：\\r\\n项目制，远程开发。',\n",
       "  'employer': '疯狂的烤翅',\n",
       "  'daily_salary': '600',\n",
       "  'days': '3',\n",
       "  'total_salary': '1800',\n",
       "  'appoint': '投递职位',\n",
       "  'employee_num': '92'},\n",
       " {'name': '外卖小程序后端开发（Python语言）',\n",
       "  'address': '远程 全区 远程',\n",
       "  'detail': '一、需求描述\\r\\n与现有团队协作开发外卖小程序（负责后端）\\r\\n1－2年开发经验\\r\\n1、熟练掌握Python语言;\\r\\n2、熟练使用django web开发框架;\\r\\n3、熟练使用django rest framework进行API接口开发\\r\\n\\r\\n二、合作方式：\\r\\n远程开发；周期可以3周，费用3000-4000',\n",
       "  'employer': '猿急送代发',\n",
       "  'daily_salary': '500',\n",
       "  'days': '7',\n",
       "  'total_salary': '3500',\n",
       "  'appoint': '投递职位',\n",
       "  'employee_num': '28'},\n",
       " {'name': '后台管理开发工程师',\n",
       "  'address': '上海 浦东 00',\n",
       "  'detail': '一、需求：\\r\\n\\xa0\\xa0\\xa0\\xa0 我们有一个APP已经开发完成，并运营一段时间，当下需要升级到2.0版本，此时会有电商功能和会员权限管理，即需要加入账户系统和权限管理。\\r\\n\\xa0 \\r\\n我们之前的系统使用Python写的，这里需要一个精通后台管理系统的工程师，推荐或者提供一套成熟的后台管理系统，加入到我们的APP中来，后台实现数据打通。\\r\\n1.\\xa0\\xa0\\xa0\\xa0\\xa0\\xa0 不同类型用户可能对不同功能不可见或者不可用；\\r\\n2.\\xa0\\xa0\\xa0\\xa0\\xa0\\xa0 通类型但不同级别用户可能会某功能在某单位时间内的使用次数有不同限制；\\r\\n\\xa0\\r\\n要求：\\r\\n1.\\xa0精通Python和相关数据库；\\r\\n精通后台与权限管理系统；类似一些微商城的用户系统；有角色定义、',\n",
       "  'employer': '黄泰山【对上:优选诚效】',\n",
       "  'daily_salary': '800',\n",
       "  'days': '1',\n",
       "  'total_salary': '800',\n",
       "  'appoint': '投递职位',\n",
       "  'employee_num': '48'},\n",
       " {'name': '海外房地产导购网站开发（中英文）',\n",
       "  'address': '北京 全区 西大望路5-6-901（远程即可）',\n",
       "  'detail': '产品需求：\\r\\n一，网站后台开发\\r\\n1.任务调度管理界面\\r\\n1.1爬虫任务设定爬虫抓取时间，目标网站，更新策略(全量，增量)  \\r\\n1.2标签提取任务\\r\\n二，网站前端开发\\r\\n包括后端业务逻辑代码(主要是推荐和查询)，前端页面交互一，网站后台管理1.任务调度管理界面。1.1爬虫任务设定爬虫抓取时间，目标网站，更新策略(全量，增量)  1.2标签提取任务。二，网站用户端，包括后端业务逻辑代码(主要是推荐和各种查询)，前端页面交互\\r\\n\\r\\n开发人员（或团队）要求：\\r\\n\\r\\n前端工程师\\r\\n\\r\\n要求\\r\\n    擅长JavaScript ，精通JQuery或Knockout JS或某一种前端框架；\\r\\n    擅',\n",
       "  'employer': '梁晨Allen',\n",
       "  'daily_salary': '2000',\n",
       "  'days': '30',\n",
       "  'total_salary': '60000',\n",
       "  'appoint': '投递职位',\n",
       "  'employee_num': '56'},\n",
       " {'name': '全栈',\n",
       "  'address': '北京 全区 可远程办公无需驻场',\n",
       "  'detail': '项目描述：\\r\\n\\r\\n海外房地产导购网站开发（中英文）\\r\\n\\r\\n项目预算：\\r\\n\\r\\n6-8万人民币\\r\\n\\r\\n产品需求：\\r\\n\\r\\n一，网站后台开发\\r\\n1.任务调度管理界面\\r\\n1.1爬虫任务设定爬虫抓取时间，目标网站，更新策略(全量，增量)  \\r\\n1.2标签提取任务\\r\\n二，网站前端开发\\r\\n包括后端业务逻辑代码(主要是推荐和查询)，前端页面交互\\r\\n\\r\\n开发人员（或团队）要求：\\r\\n\\r\\n前端工程师\\r\\n\\r\\n要求\\r\\n    擅长JavaScript ，精通JQuery或Knockout JS或某一种前端框架；\\r\\n    擅长CSS ，了解相关的前端生态；\\r\\n    擅长切图，熟悉HTML/HTML5；\\r\\n    了解前',\n",
       "  'employer': '梁晨Allen',\n",
       "  'daily_salary': '2000',\n",
       "  'days': '30',\n",
       "  'total_salary': '60000',\n",
       "  'appoint': '投递职位',\n",
       "  'employee_num': '61'},\n",
       " {'name': 'JAVA开发工程师',\n",
       "  'address': '北京 朝阳 偶尔坐班',\n",
       "  'detail': '要求：\\u2028\\r\\n1、3年以上开发经验，精通java springmvc+mybatis；\\r\\n\\u20282、踏实、能力强，最好能坐班；\\r\\n\\u20283、有爬虫、大数据、简历解析经验优先\\r\\n按日薪雇佣，能力强会继续合作。',\n",
       "  'employer': '猿急送媛小妹',\n",
       "  'daily_salary': '800',\n",
       "  'days': '7',\n",
       "  'total_salary': '5600',\n",
       "  'appoint': '投递职位',\n",
       "  'employee_num': '89'},\n",
       " {'name': '数据抓取工程师',\n",
       "  'address': '北京 海淀 车库咖啡',\n",
       "  'detail': '抓去网站的帖子特定元素和图片 \\r\\n职位要求: \\r\\n1、熟悉分布式抓取，有相关经验者优先\\r\\n2、语言Python优先\\r\\n3、处理过网站的脏数据，并对数据进行统计分析',\n",
       "  'employer': '迷路的男人',\n",
       "  'daily_salary': '800',\n",
       "  'days': '30',\n",
       "  'total_salary': '24000',\n",
       "  'appoint': '投递职位',\n",
       "  'employee_num': '77'},\n",
       " {'name': '后端开发工程师',\n",
       "  'address': '北京 海淀 永定路百朗园社区',\n",
       "  'detail': '1、教育服务类app，需要后端开发工程师\\r\\n2、主要内容有学生答题，教室阅卷，模拟考试等\\r\\n3、php或者java或者python等',\n",
       "  'employer': '虚伪了的真心',\n",
       "  'daily_salary': '900',\n",
       "  'days': '15',\n",
       "  'total_salary': '13500',\n",
       "  'appoint': '投递职位',\n",
       "  'employee_num': '134'}]"
      ]
     },
     "execution_count": 3,
     "metadata": {},
     "output_type": "execute_result"
    }
   ],
   "source": [
    "jobs_python_spider = []\n",
    "for job in jobs:\n",
    "    if (\n",
    "        ('python' in job['detail'].lower() or '爬虫' in job['detail'])\n",
    "        and int(job['employee_num']) > -1\n",
    "    ):\n",
    "        jobs_python_spider.append(job)\n",
    "jobs_python_spider"
   ]
  },
  {
   "cell_type": "code",
   "execution_count": 4,
   "metadata": {},
   "outputs": [
    {
     "data": {
      "text/plain": [
       "18"
      ]
     },
     "execution_count": 4,
     "metadata": {},
     "output_type": "execute_result"
    }
   ],
   "source": [
    "len(jobs_python_spider)"
   ]
  },
  {
   "cell_type": "code",
   "execution_count": null,
   "metadata": {},
   "outputs": [],
   "source": []
  }
 ],
 "metadata": {
  "kernelspec": {
   "display_name": "Python 3",
   "language": "python",
   "name": "python3"
  },
  "language_info": {
   "codemirror_mode": {
    "name": "ipython",
    "version": 3
   },
   "file_extension": ".py",
   "mimetype": "text/x-python",
   "name": "python",
   "nbconvert_exporter": "python",
   "pygments_lexer": "ipython3",
   "version": "3.6.5"
  }
 },
 "nbformat": 4,
 "nbformat_minor": 2
}
